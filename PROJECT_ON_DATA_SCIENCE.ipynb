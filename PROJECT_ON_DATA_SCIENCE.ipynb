{
  "nbformat": 4,
  "nbformat_minor": 0,
  "metadata": {
    "colab": {
      "provenance": [],
      "authorship_tag": "ABX9TyNmjyifUdT4AIfmviCFvUfn",
      "include_colab_link": true
    },
    "kernelspec": {
      "name": "python3",
      "display_name": "Python 3"
    },
    "language_info": {
      "name": "python"
    }
  },
  "cells": [
    {
      "cell_type": "markdown",
      "metadata": {
        "id": "view-in-github",
        "colab_type": "text"
      },
      "source": [
        "<a href=\"https://colab.research.google.com/github/SHRUTI134/DATASETS/blob/main/PROJECT_ON_DATA_SCIENCE.ipynb\" target=\"_parent\"><img src=\"https://colab.research.google.com/assets/colab-badge.svg\" alt=\"Open In Colab\"/></a>"
      ]
    },
    {
      "cell_type": "code",
      "execution_count": null,
      "metadata": {
        "colab": {
          "base_uri": "https://localhost:8080/",
          "height": 424
        },
        "id": "YrAB5ambs_AH",
        "outputId": "9b406ec4-d611-4a50-89bb-6439576410d1"
      },
      "outputs": [
        {
          "output_type": "execute_result",
          "data": {
            "text/plain": [
              "     Sl_No  Customer Key  Avg_Credit_Limit  Total_Credit_Cards  \\\n",
              "0        1         87073            100000                   2   \n",
              "1        2         38414             50000                   3   \n",
              "2        3         17341             50000                   7   \n",
              "3        4         40496             30000                   5   \n",
              "4        5         47437            100000                   6   \n",
              "..     ...           ...               ...                 ...   \n",
              "655    656         51108             99000                  10   \n",
              "656    657         60732             84000                  10   \n",
              "657    658         53834            145000                   8   \n",
              "658    659         80655            172000                  10   \n",
              "659    660         80150            167000                   9   \n",
              "\n",
              "     Total_visits_bank  Total_visits_online  Total_calls_made  \n",
              "0                    1                    1                 0  \n",
              "1                    0                   10                 9  \n",
              "2                    1                    3                 4  \n",
              "3                    1                    1                 4  \n",
              "4                    0                   12                 3  \n",
              "..                 ...                  ...               ...  \n",
              "655                  1                   10                 0  \n",
              "656                  1                   13                 2  \n",
              "657                  1                    9                 1  \n",
              "658                  1                   15                 0  \n",
              "659                  0                   12                 2  \n",
              "\n",
              "[660 rows x 7 columns]"
            ],
            "text/html": [
              "\n",
              "  <div id=\"df-157aa9b6-22a8-439e-b213-27baa01f2397\">\n",
              "    <div class=\"colab-df-container\">\n",
              "      <div>\n",
              "<style scoped>\n",
              "    .dataframe tbody tr th:only-of-type {\n",
              "        vertical-align: middle;\n",
              "    }\n",
              "\n",
              "    .dataframe tbody tr th {\n",
              "        vertical-align: top;\n",
              "    }\n",
              "\n",
              "    .dataframe thead th {\n",
              "        text-align: right;\n",
              "    }\n",
              "</style>\n",
              "<table border=\"1\" class=\"dataframe\">\n",
              "  <thead>\n",
              "    <tr style=\"text-align: right;\">\n",
              "      <th></th>\n",
              "      <th>Sl_No</th>\n",
              "      <th>Customer Key</th>\n",
              "      <th>Avg_Credit_Limit</th>\n",
              "      <th>Total_Credit_Cards</th>\n",
              "      <th>Total_visits_bank</th>\n",
              "      <th>Total_visits_online</th>\n",
              "      <th>Total_calls_made</th>\n",
              "    </tr>\n",
              "  </thead>\n",
              "  <tbody>\n",
              "    <tr>\n",
              "      <th>0</th>\n",
              "      <td>1</td>\n",
              "      <td>87073</td>\n",
              "      <td>100000</td>\n",
              "      <td>2</td>\n",
              "      <td>1</td>\n",
              "      <td>1</td>\n",
              "      <td>0</td>\n",
              "    </tr>\n",
              "    <tr>\n",
              "      <th>1</th>\n",
              "      <td>2</td>\n",
              "      <td>38414</td>\n",
              "      <td>50000</td>\n",
              "      <td>3</td>\n",
              "      <td>0</td>\n",
              "      <td>10</td>\n",
              "      <td>9</td>\n",
              "    </tr>\n",
              "    <tr>\n",
              "      <th>2</th>\n",
              "      <td>3</td>\n",
              "      <td>17341</td>\n",
              "      <td>50000</td>\n",
              "      <td>7</td>\n",
              "      <td>1</td>\n",
              "      <td>3</td>\n",
              "      <td>4</td>\n",
              "    </tr>\n",
              "    <tr>\n",
              "      <th>3</th>\n",
              "      <td>4</td>\n",
              "      <td>40496</td>\n",
              "      <td>30000</td>\n",
              "      <td>5</td>\n",
              "      <td>1</td>\n",
              "      <td>1</td>\n",
              "      <td>4</td>\n",
              "    </tr>\n",
              "    <tr>\n",
              "      <th>4</th>\n",
              "      <td>5</td>\n",
              "      <td>47437</td>\n",
              "      <td>100000</td>\n",
              "      <td>6</td>\n",
              "      <td>0</td>\n",
              "      <td>12</td>\n",
              "      <td>3</td>\n",
              "    </tr>\n",
              "    <tr>\n",
              "      <th>...</th>\n",
              "      <td>...</td>\n",
              "      <td>...</td>\n",
              "      <td>...</td>\n",
              "      <td>...</td>\n",
              "      <td>...</td>\n",
              "      <td>...</td>\n",
              "      <td>...</td>\n",
              "    </tr>\n",
              "    <tr>\n",
              "      <th>655</th>\n",
              "      <td>656</td>\n",
              "      <td>51108</td>\n",
              "      <td>99000</td>\n",
              "      <td>10</td>\n",
              "      <td>1</td>\n",
              "      <td>10</td>\n",
              "      <td>0</td>\n",
              "    </tr>\n",
              "    <tr>\n",
              "      <th>656</th>\n",
              "      <td>657</td>\n",
              "      <td>60732</td>\n",
              "      <td>84000</td>\n",
              "      <td>10</td>\n",
              "      <td>1</td>\n",
              "      <td>13</td>\n",
              "      <td>2</td>\n",
              "    </tr>\n",
              "    <tr>\n",
              "      <th>657</th>\n",
              "      <td>658</td>\n",
              "      <td>53834</td>\n",
              "      <td>145000</td>\n",
              "      <td>8</td>\n",
              "      <td>1</td>\n",
              "      <td>9</td>\n",
              "      <td>1</td>\n",
              "    </tr>\n",
              "    <tr>\n",
              "      <th>658</th>\n",
              "      <td>659</td>\n",
              "      <td>80655</td>\n",
              "      <td>172000</td>\n",
              "      <td>10</td>\n",
              "      <td>1</td>\n",
              "      <td>15</td>\n",
              "      <td>0</td>\n",
              "    </tr>\n",
              "    <tr>\n",
              "      <th>659</th>\n",
              "      <td>660</td>\n",
              "      <td>80150</td>\n",
              "      <td>167000</td>\n",
              "      <td>9</td>\n",
              "      <td>0</td>\n",
              "      <td>12</td>\n",
              "      <td>2</td>\n",
              "    </tr>\n",
              "  </tbody>\n",
              "</table>\n",
              "<p>660 rows × 7 columns</p>\n",
              "</div>\n",
              "      <button class=\"colab-df-convert\" onclick=\"convertToInteractive('df-157aa9b6-22a8-439e-b213-27baa01f2397')\"\n",
              "              title=\"Convert this dataframe to an interactive table.\"\n",
              "              style=\"display:none;\">\n",
              "        \n",
              "  <svg xmlns=\"http://www.w3.org/2000/svg\" height=\"24px\"viewBox=\"0 0 24 24\"\n",
              "       width=\"24px\">\n",
              "    <path d=\"M0 0h24v24H0V0z\" fill=\"none\"/>\n",
              "    <path d=\"M18.56 5.44l.94 2.06.94-2.06 2.06-.94-2.06-.94-.94-2.06-.94 2.06-2.06.94zm-11 1L8.5 8.5l.94-2.06 2.06-.94-2.06-.94L8.5 2.5l-.94 2.06-2.06.94zm10 10l.94 2.06.94-2.06 2.06-.94-2.06-.94-.94-2.06-.94 2.06-2.06.94z\"/><path d=\"M17.41 7.96l-1.37-1.37c-.4-.4-.92-.59-1.43-.59-.52 0-1.04.2-1.43.59L10.3 9.45l-7.72 7.72c-.78.78-.78 2.05 0 2.83L4 21.41c.39.39.9.59 1.41.59.51 0 1.02-.2 1.41-.59l7.78-7.78 2.81-2.81c.8-.78.8-2.07 0-2.86zM5.41 20L4 18.59l7.72-7.72 1.47 1.35L5.41 20z\"/>\n",
              "  </svg>\n",
              "      </button>\n",
              "      \n",
              "  <style>\n",
              "    .colab-df-container {\n",
              "      display:flex;\n",
              "      flex-wrap:wrap;\n",
              "      gap: 12px;\n",
              "    }\n",
              "\n",
              "    .colab-df-convert {\n",
              "      background-color: #E8F0FE;\n",
              "      border: none;\n",
              "      border-radius: 50%;\n",
              "      cursor: pointer;\n",
              "      display: none;\n",
              "      fill: #1967D2;\n",
              "      height: 32px;\n",
              "      padding: 0 0 0 0;\n",
              "      width: 32px;\n",
              "    }\n",
              "\n",
              "    .colab-df-convert:hover {\n",
              "      background-color: #E2EBFA;\n",
              "      box-shadow: 0px 1px 2px rgba(60, 64, 67, 0.3), 0px 1px 3px 1px rgba(60, 64, 67, 0.15);\n",
              "      fill: #174EA6;\n",
              "    }\n",
              "\n",
              "    [theme=dark] .colab-df-convert {\n",
              "      background-color: #3B4455;\n",
              "      fill: #D2E3FC;\n",
              "    }\n",
              "\n",
              "    [theme=dark] .colab-df-convert:hover {\n",
              "      background-color: #434B5C;\n",
              "      box-shadow: 0px 1px 3px 1px rgba(0, 0, 0, 0.15);\n",
              "      filter: drop-shadow(0px 1px 2px rgba(0, 0, 0, 0.3));\n",
              "      fill: #FFFFFF;\n",
              "    }\n",
              "  </style>\n",
              "\n",
              "      <script>\n",
              "        const buttonEl =\n",
              "          document.querySelector('#df-157aa9b6-22a8-439e-b213-27baa01f2397 button.colab-df-convert');\n",
              "        buttonEl.style.display =\n",
              "          google.colab.kernel.accessAllowed ? 'block' : 'none';\n",
              "\n",
              "        async function convertToInteractive(key) {\n",
              "          const element = document.querySelector('#df-157aa9b6-22a8-439e-b213-27baa01f2397');\n",
              "          const dataTable =\n",
              "            await google.colab.kernel.invokeFunction('convertToInteractive',\n",
              "                                                     [key], {});\n",
              "          if (!dataTable) return;\n",
              "\n",
              "          const docLinkHtml = 'Like what you see? Visit the ' +\n",
              "            '<a target=\"_blank\" href=https://colab.research.google.com/notebooks/data_table.ipynb>data table notebook</a>'\n",
              "            + ' to learn more about interactive tables.';\n",
              "          element.innerHTML = '';\n",
              "          dataTable['output_type'] = 'display_data';\n",
              "          await google.colab.output.renderOutput(dataTable, element);\n",
              "          const docLink = document.createElement('div');\n",
              "          docLink.innerHTML = docLinkHtml;\n",
              "          element.appendChild(docLink);\n",
              "        }\n",
              "      </script>\n",
              "    </div>\n",
              "  </div>\n",
              "  "
            ]
          },
          "metadata": {},
          "execution_count": 3
        }
      ],
      "source": [
        "# DATASET USED HERE IS 'CREDIT CARD CUSTOMER' UPLOADED ALONG WITH THE PROJECT IN GITHUB\n",
        "import pandas as pd\n",
        "df=pd.read_csv(\"/content/Credit Card Customer Data.csv\")\n",
        "df"
      ]
    },
    {
      "cell_type": "code",
      "source": [
        "df.shape"
      ],
      "metadata": {
        "colab": {
          "base_uri": "https://localhost:8080/"
        },
        "id": "E3_mi7O8vnUg",
        "outputId": "ad3ead24-988b-462c-d36a-2bf33e5ca10e"
      },
      "execution_count": null,
      "outputs": [
        {
          "output_type": "execute_result",
          "data": {
            "text/plain": [
              "(660, 7)"
            ]
          },
          "metadata": {},
          "execution_count": 2
        }
      ]
    },
    {
      "cell_type": "code",
      "source": [
        "df.info()"
      ],
      "metadata": {
        "colab": {
          "base_uri": "https://localhost:8080/"
        },
        "id": "m7BqO7fbv13H",
        "outputId": "2f876a43-741c-4106-ca89-bccc52f82a4d"
      },
      "execution_count": null,
      "outputs": [
        {
          "output_type": "stream",
          "name": "stdout",
          "text": [
            "<class 'pandas.core.frame.DataFrame'>\n",
            "RangeIndex: 660 entries, 0 to 659\n",
            "Data columns (total 7 columns):\n",
            " #   Column               Non-Null Count  Dtype\n",
            "---  ------               --------------  -----\n",
            " 0   Sl_No                660 non-null    int64\n",
            " 1   Customer Key         660 non-null    int64\n",
            " 2   Avg_Credit_Limit     660 non-null    int64\n",
            " 3   Total_Credit_Cards   660 non-null    int64\n",
            " 4   Total_visits_bank    660 non-null    int64\n",
            " 5   Total_visits_online  660 non-null    int64\n",
            " 6   Total_calls_made     660 non-null    int64\n",
            "dtypes: int64(7)\n",
            "memory usage: 36.2 KB\n"
          ]
        }
      ]
    },
    {
      "cell_type": "code",
      "source": [
        "x=df.iloc[:,3:5].values\n",
        "x"
      ],
      "metadata": {
        "colab": {
          "base_uri": "https://localhost:8080/"
        },
        "id": "B5u1U0FwzuOz",
        "outputId": "3362191c-5547-4f12-8a3f-1aa8a2dce338"
      },
      "execution_count": null,
      "outputs": [
        {
          "output_type": "execute_result",
          "data": {
            "text/plain": [
              "array([[ 2,  1],\n",
              "       [ 3,  0],\n",
              "       [ 7,  1],\n",
              "       ...,\n",
              "       [ 8,  1],\n",
              "       [10,  1],\n",
              "       [ 9,  0]])"
            ]
          },
          "metadata": {},
          "execution_count": 4
        }
      ]
    },
    {
      "cell_type": "code",
      "source": [
        "import matplotlib.pyplot as plt\n",
        "plt.scatter(df['Total_Credit_Cards'],df['Total_visits_bank'])"
      ],
      "metadata": {
        "colab": {
          "base_uri": "https://localhost:8080/",
          "height": 282
        },
        "id": "_4nXrTBBv465",
        "outputId": "1fdb52a6-0bd8-4050-87d1-43c10478eefd"
      },
      "execution_count": null,
      "outputs": [
        {
          "output_type": "execute_result",
          "data": {
            "text/plain": [
              "<matplotlib.collections.PathCollection at 0x7f1afaf7d9a0>"
            ]
          },
          "metadata": {},
          "execution_count": 5
        },
        {
          "output_type": "display_data",
          "data": {
            "text/plain": [
              "<Figure size 432x288 with 1 Axes>"
            ],
            "image/png": "[encoded data removed]"
          },
          "metadata": {
            "needs_background": "light"
          }
        }
      ]
    },
    {
      "cell_type": "code",
      "source": [
        "import numpy as np\n",
        "np.sqrt(600)"
      ],
      "metadata": {
        "colab": {
          "base_uri": "https://localhost:8080/"
        },
        "id": "RqekMbNny43Q",
        "outputId": "a5569f35-b1d3-4093-995a-f7d9351cdb26"
      },
      "execution_count": null,
      "outputs": [
        {
          "output_type": "execute_result",
          "data": {
            "text/plain": [
              "24.49489742783178"
            ]
          },
          "metadata": {},
          "execution_count": 6
        }
      ]
    },
    {
      "cell_type": "code",
      "source": [
        "from sklearn.cluster import KMeans\n",
        "k=range(2,25)\n",
        "\n",
        "sse=[]\n",
        "\n",
        "for i in k:\n",
        "  model_demo=KMeans(n_clusters=i,random_state=0)\n",
        "  model_demo.fit(x)\n",
        "  sse.append(model_demo.inertia_)\n",
        "plt.scatter(k,sse)\n",
        "plt.plot(k,sse)"
      ],
      "metadata": {
        "colab": {
          "base_uri": "https://localhost:8080/",
          "height": 282
        },
        "id": "Vho4cPaqzAzx",
        "outputId": "17edb1e1-5ceb-433c-dfae-da7c2271d7bb"
      },
      "execution_count": null,
      "outputs": [
        {
          "output_type": "execute_result",
          "data": {
            "text/plain": [
              "[<matplotlib.lines.Line2D at 0x7faa04319ca0>]"
            ]
          },
          "metadata": {},
          "execution_count": 11
        },
        {
          "output_type": "display_data",
          "data": {
            "text/plain": [
              "<Figure size 432x288 with 1 Axes>"
            ],
            "image/png": "[encoded data removed]"
          },
          "metadata": {
            "needs_background": "light"
          }
        }
      ]
    },
    {
      "cell_type": "code",
      "source": [
        "from sklearn.metrics import silhouette_score\n",
        "k=range(2,25)\n",
        "for i in k:\n",
        "  model_demo=KMeans(n_clusters=i,random_state=0)\n",
        "  model_demo.fit(x)\n",
        "  y_pred = model_demo.predict(x)\n",
        "  print(f\"{i} Clusters, Score={silhouette_score(x,y_pred)}\")\n",
        "  plt.bar(i,silhouette_score(x,y_pred))"
      ],
      "metadata": {
        "colab": {
          "base_uri": "https://localhost:8080/",
          "height": 664
        },
        "id": "RAOsE-3C0-a_",
        "outputId": "aa8c39b5-e403-4ba2-e1a7-14639ed17068"
      },
      "execution_count": null,
      "outputs": [
        {
          "output_type": "stream",
          "name": "stdout",
          "text": [
            "2 Clusters, Score=0.4823572928276957\n",
            "3 Clusters, Score=0.5024545102943476\n",
            "4 Clusters, Score=0.43580346365355527\n",
            "5 Clusters, Score=0.4253762711920125\n",
            "6 Clusters, Score=0.4723182565635393\n",
            "7 Clusters, Score=0.4873673680838732\n",
            "8 Clusters, Score=0.49951584012043887\n",
            "9 Clusters, Score=0.49536426835806624\n",
            "10 Clusters, Score=0.4770245750873183\n",
            "11 Clusters, Score=0.5016716937881869\n",
            "12 Clusters, Score=0.5056547760806194\n",
            "13 Clusters, Score=0.5189904267590486\n",
            "14 Clusters, Score=0.5146333393242162\n",
            "15 Clusters, Score=0.5728049711673703\n",
            "16 Clusters, Score=0.5839946944773697\n",
            "17 Clusters, Score=0.6074594778582099\n",
            "18 Clusters, Score=0.632038094012964\n",
            "19 Clusters, Score=0.6509287898526334\n",
            "20 Clusters, Score=0.6992153587219309\n",
            "21 Clusters, Score=0.7226226572230938\n",
            "22 Clusters, Score=0.754908769432163\n",
            "23 Clusters, Score=0.7947992484612564\n",
            "24 Clusters, Score=0.8140298992386354\n"
          ]
        },
        {
          "output_type": "display_data",
          "data": {
            "text/plain": [
              "<Figure size 432x288 with 1 Axes>"
            ],
            "image/png": "[encoded data removed]"
          },
          "metadata": {
            "needs_background": "light"
          }
        }
      ]
    },
    {
      "cell_type": "code",
      "source": [
        "k=24\n",
        "from sklearn.cluster import KMeans\n",
        "\n",
        "model=KMeans(n_clusters=k, random_state=0)\n",
        "model.fit(x)\n"
      ],
      "metadata": {
        "colab": {
          "base_uri": "https://localhost:8080/"
        },
        "id": "db-NMG5G4FZo",
        "outputId": "9358e47a-b1a0-4ca3-9b1c-fdc01a6faf57"
      },
      "execution_count": null,
      "outputs": [
        {
          "output_type": "execute_result",
          "data": {
            "text/plain": [
              "KMeans(n_clusters=24, random_state=0)"
            ]
          },
          "metadata": {},
          "execution_count": 13
        }
      ]
    },
    {
      "cell_type": "code",
      "source": [
        "y=model.predict(x)\n",
        "y"
      ],
      "metadata": {
        "colab": {
          "base_uri": "https://localhost:8080/"
        },
        "id": "GpzCNErm4yz1",
        "outputId": "d0749334-54ab-4b15-fe97-21d9e2326f01"
      },
      "execution_count": null,
      "outputs": [
        {
          "output_type": "execute_result",
          "data": {
            "text/plain": [
              "array([23, 13,  8, 20,  8, 13, 20, 13,  6, 13, 13, 13, 12, 22,  1,  6, 23,\n",
              "        6,  1, 20,  1,  6, 20, 22,  6, 22, 13,  1,  6, 13,  3,  3, 21, 21,\n",
              "       20,  6,  3,  6, 20,  1,  5, 22,  5,  6,  5, 20, 12, 12, 13,  1, 21,\n",
              "       23, 23, 13,  6, 12, 21,  6, 21, 20, 20, 12, 21, 13, 21, 22,  6,  5,\n",
              "       12, 12, 12,  1,  3,  3,  6,  3, 12,  3,  6, 22,  1,  3, 22,  3,  1,\n",
              "       22, 20, 20, 22,  5, 23, 22, 22, 12,  1, 12,  1,  6, 22, 23, 21, 22,\n",
              "       20, 21, 23, 23, 23,  1,  1,  5,  5,  6, 20, 20, 13,  1, 21, 13,  3,\n",
              "       13,  5, 13,  1, 22,  1, 23, 20,  1, 20,  3,  3, 13, 13,  3, 20,  1,\n",
              "       13,  6, 22, 21, 13,  6, 20, 23,  5, 13, 23,  1, 12, 23,  1, 22,  1,\n",
              "       13,  5, 22,  1, 12,  1, 12, 21,  1,  6, 13, 13, 21, 13,  5, 22,  3,\n",
              "       23,  1,  6, 23, 20, 21,  1, 13, 22,  1, 21, 13, 13, 12, 13, 13, 12,\n",
              "        1,  6,  1, 13, 23, 13,  1,  6, 23,  6, 22, 22,  5, 13, 21, 21,  6,\n",
              "        1, 21, 23,  5,  6, 21, 20,  3,  3, 21, 20, 13,  3, 13,  3, 23, 21,\n",
              "        1, 20,  1, 20, 20, 12,  1,  9,  9, 17,  0,  4,  9, 11,  7,  7, 18,\n",
              "       14, 14,  5, 17, 16, 18, 15,  5, 17, 15, 11, 11,  0, 19, 17, 19, 16,\n",
              "        4, 15, 18,  0, 10, 17,  0,  4,  5, 10,  7,  7, 18, 11,  4, 17,  9,\n",
              "       19, 11,  4, 19, 17, 17,  7, 11, 18,  9,  0, 16,  9,  4, 17,  9, 14,\n",
              "       11,  0, 15, 16, 14, 11, 18, 10,  7, 11, 11, 11, 18,  5, 17, 10, 11,\n",
              "        0,  0, 17, 11, 17,  0, 15,  5, 15, 16, 18,  4, 18, 19, 11,  7,  0,\n",
              "        5, 17, 10, 10,  4, 10,  7,  0, 11, 15,  4,  7, 11, 10,  9, 19,  0,\n",
              "        0, 16, 18,  0, 14,  7,  0, 19, 10, 15, 14,  9, 14,  4,  7,  4, 11,\n",
              "       10, 14,  5,  0,  0,  4, 14, 18,  7,  7, 16, 16, 18,  0, 14, 11, 17,\n",
              "       11,  0,  4, 14, 11,  9,  9,  5,  0,  0, 10,  7, 14, 15,  4, 17,  5,\n",
              "       17, 10,  5,  7, 17, 18,  0, 19, 15, 15, 10,  5, 16,  9, 15, 19,  4,\n",
              "        0,  9, 14, 17, 11,  7, 16, 15, 14,  4, 14, 18,  0,  4,  0,  0,  4,\n",
              "       19,  9,  7, 10, 10, 18, 11, 19,  0,  5, 17,  5,  0,  9,  7,  0, 19,\n",
              "       16, 11, 11,  7,  4, 14, 10, 16, 15, 10,  4, 10, 16, 19, 11, 14,  9,\n",
              "        7, 18, 10, 10, 17,  5,  4, 19, 10,  4, 19,  4,  0,  0,  0, 16,  4,\n",
              "       11,  7,  0, 15, 19, 15,  5,  4,  4, 15,  5,  7, 18,  7,  5, 17, 18,\n",
              "       19, 16, 15,  0,  5, 10, 18,  4,  0, 19,  0, 11, 14, 11,  0,  9, 10,\n",
              "       19, 19, 19,  0, 14, 10,  7,  5,  7,  9, 18, 16,  7,  0, 15,  4,  5,\n",
              "       14, 16,  0, 16, 16, 16,  0, 18, 17, 10, 15,  7, 10,  9,  7,  4, 14,\n",
              "        0,  7,  9, 17, 16,  7,  7,  9, 15,  7, 14, 17, 17,  7, 11,  7,  0,\n",
              "        7, 15,  4,  7, 11, 11, 15, 11, 18,  5,  9,  7,  9, 16,  0,  0,  0,\n",
              "        7, 16, 17, 11, 11, 19, 18,  7, 15, 16, 16, 17, 19, 14,  4, 17,  5,\n",
              "        7, 18,  7,  4, 19,  7,  4,  7,  0, 15, 14,  0,  0, 10, 16,  9,  7,\n",
              "        2,  2,  8,  2,  2,  8,  8,  8,  2,  2,  2,  2,  8,  8,  2,  2,  2,\n",
              "        8,  2,  8,  8,  8,  8,  2,  2,  2,  8,  8,  8,  2,  2,  2,  2,  2,\n",
              "        8,  2,  8,  2,  2,  2,  8,  2,  2,  2,  2,  8,  2,  2],\n",
              "      dtype=int32)"
            ]
          },
          "metadata": {},
          "execution_count": 15
        }
      ]
    },
    {
      "cell_type": "code",
      "source": [
        "y.size"
      ],
      "metadata": {
        "colab": {
          "base_uri": "https://localhost:8080/"
        },
        "id": "b_Cn8xyz6A1m",
        "outputId": "41376267-ecde-4f6c-af44-f8ac2c26d2d6"
      },
      "execution_count": null,
      "outputs": [
        {
          "output_type": "execute_result",
          "data": {
            "text/plain": [
              "660"
            ]
          },
          "metadata": {},
          "execution_count": 32
        }
      ]
    },
    {
      "cell_type": "code",
      "source": [
        "x[y==1,0]"
      ],
      "metadata": {
        "colab": {
          "base_uri": "https://localhost:8080/"
        },
        "id": "O_y0fSY748ig",
        "outputId": "aa286a80-38a5-4f5a-c369-0564e8d305a0"
      },
      "execution_count": null,
      "outputs": [
        {
          "output_type": "execute_result",
          "data": {
            "text/plain": [
              "array([2, 2, 3, 2, 2, 3, 3, 2, 3, 2, 3, 2, 3, 2, 2, 2, 3, 3, 2, 3, 3, 3,\n",
              "       3, 3, 2, 2, 2, 2, 3, 2, 2, 2, 2, 2])"
            ]
          },
          "metadata": {},
          "execution_count": 42
        }
      ]
    },
    {
      "cell_type": "code",
      "source": [
        "np.unique(y,return_counts=True)"
      ],
      "metadata": {
        "colab": {
          "base_uri": "https://localhost:8080/"
        },
        "id": "wrHyb2Vx5bCs",
        "outputId": "3109af9a-18bf-4c35-c78e-b038fe693ae1"
      },
      "execution_count": null,
      "outputs": [
        {
          "output_type": "execute_result",
          "data": {
            "text/plain": [
              "(array([ 0,  1,  2,  3,  4,  5,  6,  7,  8,  9, 10, 11, 12, 13, 14, 15, 16,\n",
              "        17, 18, 19, 20, 21, 22, 23], dtype=int32),\n",
              " array([49, 34, 30, 18, 33, 35, 25, 44, 20, 24, 27, 34, 17, 34, 24, 25, 26,\n",
              "        28, 24, 24, 24, 21, 21, 19]))"
            ]
          },
          "metadata": {},
          "execution_count": 43
        }
      ]
    },
    {
      "cell_type": "code",
      "source": [
        "plt.figure(figsize=(10,5))\n",
        "for i in range(k):\n",
        "  plt.scatter(x[y==i,0],x[y==i,1],label=f'Cluster{i}')\n",
        "plt.scatter(model.cluster_centers_[:,0],model.cluster_centers_[:,1],s=300,c='green',label='Centroids')\n",
        "  \n",
        "plt.legend()"
      ],
      "metadata": {
        "colab": {
          "base_uri": "https://localhost:8080/",
          "height": 431
        },
        "id": "oTykRNQp6xdV",
        "outputId": "5e5e8047-056e-4fe4-e1ab-b172aec0d5a8"
      },
      "execution_count": null,
      "outputs": [
        {
          "output_type": "execute_result",
          "data": {
            "text/plain": [
              "<matplotlib.legend.Legend at 0x7fa9fd180f10>"
            ]
          },
          "metadata": {},
          "execution_count": 16
        },
        {
          "output_type": "display_data",
          "data": {
            "text/plain": [
              "<Figure size 720x360 with 1 Axes>"
            ],
            "image/png": "[encoded data removed]"
          },
          "metadata": {
            "needs_background": "light"
          }
        }
      ]
    },
    {
      "cell_type": "code",
      "source": [
        "import seaborn as sns\n",
        "sns.distplot(df[\"Total_calls_made\"])\n"
      ],
      "metadata": {
        "id": "R-sdN66u8Qw7",
        "colab": {
          "base_uri": "https://localhost:8080/",
          "height": 352
        },
        "outputId": "8a40db92-2b3d-484d-8eb9-22bd46aeabc9"
      },
      "execution_count": null,
      "outputs": [
        {
          "output_type": "stream",
          "name": "stderr",
          "text": [
            "/usr/local/lib/python3.8/dist-packages/seaborn/distributions.py:2619: FutureWarning: `distplot` is a deprecated function and will be removed in a future version. Please adapt your code to use either `displot` (a figure-level function with similar flexibility) or `histplot` (an axes-level function for histograms).\n",
            "  warnings.warn(msg, FutureWarning)\n"
          ]
        },
        {
          "output_type": "execute_result",
          "data": {
            "text/plain": [
              "<matplotlib.axes._subplots.AxesSubplot at 0x7f1aee9977c0>"
            ]
          },
          "metadata": {},
          "execution_count": 13
        },
        {
          "output_type": "display_data",
          "data": {
            "text/plain": [
              "<Figure size 432x288 with 1 Axes>"
            ],
            "image/png": "[encoded data removed]"
          },
          "metadata": {
            "needs_background": "light"
          }
        }
      ]
    },
    {
      "cell_type": "code",
      "source": [
        "sns.barplot(x=df['Total_Credit_Cards'], y=df['Avg_Credit_Limit'])\n",
        "plt.xticks(rotation='vertical')"
      ],
      "metadata": {
        "colab": {
          "base_uri": "https://localhost:8080/",
          "height": 318
        },
        "id": "WzWMFM4b0BFl",
        "outputId": "e65ab92d-0cfc-4c92-b9d3-a5fc1970c326"
      },
      "execution_count": null,
      "outputs": [
        {
          "output_type": "execute_result",
          "data": {
            "text/plain": [
              "(array([0, 1, 2, 3, 4, 5, 6, 7, 8, 9]),\n",
              " <a list of 10 Text major ticklabel objects>)"
            ]
          },
          "metadata": {},
          "execution_count": 16
        },
        {
          "output_type": "display_data",
          "data": {
            "text/plain": [
              "<Figure size 432x288 with 1 Axes>"
            ],
            "image/png": "[encoded data removed]"
          },
          "metadata": {
            "needs_background": "light"
          }
        }
      ]
    },
    {
      "cell_type": "code",
      "source": [
        "df['Total_visits_online'].value_counts()"
      ],
      "metadata": {
        "colab": {
          "base_uri": "https://localhost:8080/"
        },
        "id": "dxzlG0PO0x3h",
        "outputId": "ee482b0c-c9be-4da3-ccfc-9c6414340a58"
      },
      "execution_count": null,
      "outputs": [
        {
          "output_type": "execute_result",
          "data": {
            "text/plain": [
              "2     189\n",
              "0     144\n",
              "1     109\n",
              "4      69\n",
              "5      54\n",
              "3      44\n",
              "15     10\n",
              "7       7\n",
              "10      6\n",
              "12      6\n",
              "8       6\n",
              "11      5\n",
              "13      5\n",
              "9       4\n",
              "14      1\n",
              "6       1\n",
              "Name: Total_visits_online, dtype: int64"
            ]
          },
          "metadata": {},
          "execution_count": 17
        }
      ]
    }
  ]
}